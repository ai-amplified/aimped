{
 "cells": [
  {
   "cell_type": "code",
   "execution_count": null,
   "metadata": {},
   "outputs": [],
   "source": [
    "from aimped.io_tasks import TranslationInput, TranslationOutput\n",
    "from pprint import pprint\n",
    "request = {\"text\": [\"Dies ist ein Buch.\", \"Dies ist ein Stift.\"], \"source_language\": \"de\", \"output_language\": \"en\"}\n",
    "input_data = TranslationInput(**request)\n",
    "print(input_data)\n",
    "text = input_data.text\n",
    "text\n",
    "output_language = input_data.output_language\n",
    "output_language\n",
    " {'status': True,\n",
    " 'data_type': ['data_json'],\n",
    " 'output': {'data_json': {'result': {'output_language': 'en',\n",
    "    'translated_text': ['This is a book.', 'This is a pen.']}}}}\n",
    "output_language = 'en'\n",
    "translated_text = ['This is a book.', 'This is a pen.']\n",
    "audio = 'base64-encoded-string of the audio file content...'\n",
    "\n",
    "output = TranslationOutput(output_language=output_language, model_prediction=translated_text)\n",
    "output.output[\"data_audio\"] = audio\n",
    "pprint(output.dict(), indent=4)\n",
    "\n",
    "output.json()"
   ]
  }
 ],
 "metadata": {
  "language_info": {
   "name": "python"
  },
  "orig_nbformat": 4
 },
 "nbformat": 4,
 "nbformat_minor": 2
}
