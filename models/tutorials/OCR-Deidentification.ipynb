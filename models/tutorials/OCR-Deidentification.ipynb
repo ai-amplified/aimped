{
 "cells": [
  {
   "cell_type": "markdown",
   "id": "7f0e4142",
   "metadata": {},
   "source": [
    "# API Tutorial - OCR-Deidentification"
   ]
  },
  {
   "cell_type": "markdown",
   "id": "91c2598e",
   "metadata": {},
   "source": [
    "## Short Description\n",
    "The OCR Deidentification model is a powerful model that takes data records as images and deidentifies any Protected Health Information (PHI) in the document. The model leverages sophisticated computer vision and natural language processing algorithms to accurately identify and remove PHI information in accordance with HIPAA regulations. It automatically detects typed and printed text, converts it into machine-encoded text, and then uses the `nlp-health-deidentification-sub-base-en` model which is trained in a custom dataset to identify PHI entities and identifies the relevant information. This allows users to quickly and accurately remove PHI from their documents while ensuring compliance with HIPAA regulations.\n",
    "\n",
    "## Tutorial\n",
    "This tutorial will guide you through using the OCR-Deidentification API. By following the steps below, you'll be able to extract, conceal, and anonymize Protected Health Information (PHI) from images using the API. The main steps involved are:\n",
    "\n",
    "1. Creating an access token\n",
    "2. Installing the aimped library\n",
    "3. Running the API with your credentials and payload"
   ]
  },
  {
   "cell_type": "markdown",
   "id": "feacafef",
   "metadata": {},
   "source": [
    "## Step 1: Create Access Token"
   ]
  },
  {
   "cell_type": "markdown",
   "id": "925be06a",
   "metadata": {},
   "source": [
    "To use the API, you need an access token. Follow these steps to create one:\n",
    "\n",
    "1. Go to the [API Access Token Creation Page](https://aimped.ai/a3m/#/tokens). You will land here:\n",
    "![Token Creation Page](images/token_11.png)\n",
    "\n",
    "2. Select scopes and click on \"Create Token\".\n",
    "3. After clicking this button, you will see the pop-up from where you can copy the User Key and User Secret.\n",
    "\n",
    "![Token Creation Page2](images/token_22.png)\n",
    "\n",
    "3. Copy the generated access tokens and keep it safe. You'll need it for the next steps."
   ]
  },
  {
   "cell_type": "markdown",
   "id": "f7da9fe6",
   "metadata": {},
   "source": [
    "## Step 2: Install aimped Library\n",
    "To interact with the API, you need to install the aimped Python library. Open your terminal or command prompt and run the following command:"
   ]
  },
  {
   "cell_type": "code",
   "execution_count": 2,
   "id": "0570e728",
   "metadata": {},
   "outputs": [],
   "source": [
    "pip install aimped==0.2.2"
   ]
  },
  {
   "cell_type": "markdown",
   "id": "1955fccb",
   "metadata": {},
   "source": [
    "This command will install the necessary library to communicate with the API."
   ]
  },
  {
   "cell_type": "markdown",
   "id": "613ef48e",
   "metadata": {},
   "source": [
    "## Step 3: Run the API\n",
    "Now that you have your access tokens and the library installed, you can run the API for OCR-Deidentification. Follow these steps:"
   ]
  },
  {
   "cell_type": "markdown",
   "id": "971b24d9",
   "metadata": {},
   "source": [
    "### Set up your credentials:"
   ]
  },
  {
   "cell_type": "code",
   "execution_count": 3,
   "id": "18cbf102",
   "metadata": {},
   "outputs": [],
   "source": [
    "user_key = \"YOUR_USER_KEY\"\n",
    "user_secret = \"YOUR_USER_SECRET\""
   ]
  },
  {
   "cell_type": "markdown",
   "id": "48cfae5e",
   "metadata": {},
   "source": [
    "### Import the AimpedAPI class and set the base URL and model ID:\n",
    "For using different Models and Languages, you just need to change the **Model ID**. The Model ID can be found under \"API Information\" in the \"API Details\" tab on each model card."
   ]
  },
  {
   "cell_type": "code",
   "execution_count": 15,
   "id": "69f48705",
   "metadata": {},
   "outputs": [],
   "source": [
    "from aimped.services.api import AimpedAPI\n",
    "\n",
    "BASE_URL = 'https://aimped.ai'\n",
    "model_id = \"134\" # the Model ID can be found under \"API Information\" in the \"API Details\" tab on each model card."
   ]
  },
  {
   "cell_type": "markdown",
   "id": "6e62b0d8",
   "metadata": {},
   "source": [
    "### Initialize the API service:"
   ]
  },
  {
   "cell_type": "code",
   "execution_count": 16,
   "id": "a478ea85",
   "metadata": {},
   "outputs": [],
   "source": [
    "api_service = AimpedAPI(user_key, user_secret, {\"base_url\": BASE_URL})"
   ]
  },
  {
   "cell_type": "markdown",
   "id": "5e5ecbd4",
   "metadata": {},
   "source": [
    "### Define your payload:\n",
    "Define payload according to your input data type."
   ]
  },
  {
   "cell_type": "code",
   "execution_count": 20,
   "id": "00a29471",
   "metadata": {},
   "outputs": [],
   "source": [
    "path_uri_obj = api_service.file_upload(\n",
    "    model_id,\n",
    "    '/content/test.jpg'  # sample file path to upload    # supported file formats: .png, .jpg, .jpeg\n",
    "    )\n",
    "path_uri = path_uri_obj['url']\n",
    "\n",
    "payload =   {\n",
    "    \"data_type\": \"data_image\",\n",
    "    \"data_image\": [\n",
    "        path_uri\n",
    "    ]\n",
    "  }"
   ]
  },
  {
   "cell_type": "markdown",
   "id": "41479694",
   "metadata": {},
   "source": [
    "### Run the model:"
   ]
  },
  {
   "cell_type": "code",
   "execution_count": 21,
   "id": "4b770098",
   "metadata": {},
   "outputs": [],
   "source": [
    "result = api_service.run_model(model_id, payload)"
   ]
  },
  {
   "cell_type": "markdown",
   "id": "f6fb148b",
   "metadata": {},
   "source": [
    "If you're running this model for the first time or after a long time, you might see the following message:"
   ]
  },
  {
   "cell_type": "code",
   "execution_count": 19,
   "id": "1a0559cf",
   "metadata": {},
   "outputs": [
    {
     "name": "stdout",
     "output_type": "stream",
     "text": [
      "{'message': 'We will notify you via email when the instance is ready.'}\n"
     ]
    }
   ],
   "source": [
    "print(result)"
   ]
  },
  {
   "cell_type": "markdown",
   "id": "9f100748",
   "metadata": {},
   "source": [
    "Wait for the email notification indicating that the instance is ready. You will be notified on the [Aimped](https://aimped.ai/) as well.\n",
    "![Notification Page](images/notif_1.png)\n",
    "\n",
    "You will see this notification, once the instance is ready:\n",
    "![Notification Page2](images/ocr_deid_notif.png)"
   ]
  },
  {
   "cell_type": "markdown",
   "id": "d8de220f",
   "metadata": {},
   "source": [
    "Once you receive the email or notification on aimped, run the model again:"
   ]
  },
  {
   "cell_type": "code",
   "execution_count": 44,
   "id": "561a6ce0",
   "metadata": {},
   "outputs": [],
   "source": [
    "result = api_service.run_model(model_id, payload)"
   ]
  },
  {
   "cell_type": "code",
   "execution_count": 2,
   "id": "a73b41ac",
   "metadata": {
    "scrolled": true
   },
   "outputs": [
    {
     "data": {
      "text/plain": [
       "{'status': True,\n",
       " 'data_type': ['data_image'],\n",
       " 'output': {'data_image': ['output/image/model_371/user_3229/dbca5f25c07_test.jpg']}}"
      ]
     },
     "execution_count": 2,
     "metadata": {},
     "output_type": "execute_result"
    }
   ],
   "source": [
    "result"
   ]
  },
  {
   "cell_type": "code",
   "execution_count": 3,
   "id": "48d92afc",
   "metadata": {},
   "outputs": [],
   "source": [
    "#Download and save audio file\n",
    "source_url = 'output/image/model_371/user_3229/dbca5f25c07_test.jpg'\n",
    "target_path = '/Users/John/Downloads/output.jpg'\n",
    "api_service.file_download_and_save(source_url, target_path)"
   ]
  }
 ],
 "metadata": {
  "kernelspec": {
   "display_name": "Python 3 (ipykernel)",
   "language": "python",
   "name": "python3"
  },
  "language_info": {
   "codemirror_mode": {
    "name": "ipython",
    "version": 3
   },
   "file_extension": ".py",
   "mimetype": "text/x-python",
   "name": "python",
   "nbconvert_exporter": "python",
   "pygments_lexer": "ipython3",
   "version": "3.9.12"
  }
 },
 "nbformat": 4,
 "nbformat_minor": 5
}
